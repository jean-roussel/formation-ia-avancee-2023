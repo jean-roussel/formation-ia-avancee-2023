{
 "cells": [
  {
   "cell_type": "code",
   "execution_count": null,
   "metadata": {
    "id": "0QP05g4pLxw8"
   },
   "outputs": [],
   "source": [
    "%matplotlib notebook\n",
    "import numpy as np\n",
    "import cvxopt\n",
    "import cvxopt.glpk"
   ]
  },
  {
   "cell_type": "code",
   "execution_count": null,
   "metadata": {
    "id": "RXwjLrYsLxxB"
   },
   "outputs": [],
   "source": [
    "cvxopt.glpk.ilp?"
   ]
  },
  {
   "cell_type": "code",
   "execution_count": null,
   "metadata": {
    "id": "KG2VMt_pLxxC"
   },
   "outputs": [],
   "source": [
    "## To help create the huge matrix\n",
    "\n",
    "def unravel(i,j,k,order=3):\n",
    "    n2 = order*order\n",
    "    assert(i>=0 and i<n2)\n",
    "    assert(j>=0 and i<n2)\n",
    "    assert(k>=0 and i<n2)\n",
    "    \n",
    "    return(k+ j*n2+ i*n2*n2)"
   ]
  },
  {
   "cell_type": "code",
   "execution_count": 2,
   "metadata": {
    "id": "5DjK4UtOLxxF"
   },
   "outputs": [],
   "source": [
    "## solving\n",
    "from cvxopt import matrix\n",
    "\n",
    "def solveSudoku(A):\n",
    "    b=matrix(np.ones(A.shape[0])) ## set partition\n",
    "    c=matrix(np.zeros(A.shape[1])) ## zero cost\n",
    "    G=matrix(np.zeros(A.shape))\n",
    "    h=matrix(np.zeros(A.shape[0]))\n",
    "    binary=np.array(range(A.shape[1]))\n",
    "    I=set(binary)\n",
    "    B=set(binary)\n",
    "    Aeq = matrix(A)\n",
    "    (status, solution) = cvxopt.glpk.ilp(c=c,G=G,h=h,A=Aeq,b=b,B=set(range(A.shape[1])))\n",
    "    return(status,solution)"
   ]
  },
  {
   "cell_type": "code",
   "execution_count": null,
   "metadata": {
    "id": "C3ZtK0ZTLxxC",
    "outputId": "2f3985b1-3928-452d-88f3-54efcc7dcdb8",
    "scrolled": false
   },
   "outputs": [
    {
     "name": "stdout",
     "output_type": "stream",
     "text": [
      "Total number of constraints= 324\n",
      "All constraints OK\n"
     ]
    }
   ],
   "source": [
    "def sudokuConstraints(order=3):\n",
    "    n2 = order*order\n",
    "    A = np.zeros((4*n2*n2,n2*n2*n2))\n",
    "    ## line constraints: only one number per line\n",
    "    c=0\n",
    "    for k in range(n2): ## for all numbers\n",
    "        for j in range(n2): ## for all columns\n",
    "            for i in range(n2): \n",
    "                A[c,unravel(i,j,k)] = 1 ## only one number k on line i\n",
    "            c += 1\n",
    "        \n",
    "    ## column constraints: only one number per column\n",
    "    \n",
    "        \n",
    "    # unicity constraints\n",
    "            \n",
    "    # square constraints\n",
    "            \n",
    "    print(\"Total number of constraints=\", c)\n",
    "    return(A)\n",
    "\n",
    "    \n",
    "def sanityCheck(A,order=3):\n",
    "    n2 = order*order\n",
    "    c = 4*(order*order)**2\n",
    "    for n in range(c):\n",
    "        if (np.sum(A[n,])!=n2):\n",
    "            print(\"error on line\", n)\n",
    "            break\n",
    "    print(\"All constraints OK\")\n",
    "    return\n",
    "\n",
    "A = sudokuConstraints(order=3)\n",
    "sanityCheck(A)"
   ]
  },
  {
   "cell_type": "code",
   "execution_count": 3,
   "metadata": {
    "id": "L9UIELmtLxxE",
    "outputId": "b663636f-01ae-404b-94dd-dcd511e94b86"
   },
   "outputs": [
    {
     "ename": "NameError",
     "evalue": "name 'np' is not defined",
     "output_type": "error",
     "traceback": [
      "\u001b[0;31m---------------------------------------------------------------------------\u001b[0m",
      "\u001b[0;31mNameError\u001b[0m                                 Traceback (most recent call last)",
      "\u001b[0;32m<ipython-input-3-495d45c30b89>\u001b[0m in \u001b[0;36m<module>\u001b[0;34m\u001b[0m\n\u001b[1;32m      1\u001b[0m \u001b[0;31m## add the fixed numbers constraints\u001b[0m\u001b[0;34m\u001b[0m\u001b[0;34m\u001b[0m\u001b[0;34m\u001b[0m\u001b[0m\n\u001b[0;32m----> 2\u001b[0;31m K = np.array([\n\u001b[0m\u001b[1;32m      3\u001b[0m \u001b[0;34m[\u001b[0m\u001b[0;36m0\u001b[0m\u001b[0;34m,\u001b[0m\u001b[0;36m8\u001b[0m\u001b[0;34m,\u001b[0m\u001b[0;36m0\u001b[0m\u001b[0;34m,\u001b[0m \u001b[0;36m9\u001b[0m\u001b[0;34m,\u001b[0m\u001b[0;36m0\u001b[0m\u001b[0;34m,\u001b[0m\u001b[0;36m1\u001b[0m\u001b[0;34m,\u001b[0m \u001b[0;36m0\u001b[0m\u001b[0;34m,\u001b[0m\u001b[0;36m5\u001b[0m\u001b[0;34m,\u001b[0m\u001b[0;36m0\u001b[0m\u001b[0;34m]\u001b[0m\u001b[0;34m,\u001b[0m\u001b[0;34m\u001b[0m\u001b[0;34m\u001b[0m\u001b[0m\n\u001b[1;32m      4\u001b[0m \u001b[0;34m[\u001b[0m\u001b[0;36m0\u001b[0m\u001b[0;34m,\u001b[0m\u001b[0;36m0\u001b[0m\u001b[0;34m,\u001b[0m\u001b[0;36m2\u001b[0m\u001b[0;34m,\u001b[0m \u001b[0;36m6\u001b[0m\u001b[0;34m,\u001b[0m\u001b[0;36m8\u001b[0m\u001b[0;34m,\u001b[0m\u001b[0;36m7\u001b[0m\u001b[0;34m,\u001b[0m \u001b[0;36m3\u001b[0m\u001b[0;34m,\u001b[0m\u001b[0;36m0\u001b[0m\u001b[0;34m,\u001b[0m\u001b[0;36m0\u001b[0m\u001b[0;34m]\u001b[0m\u001b[0;34m,\u001b[0m\u001b[0;34m\u001b[0m\u001b[0;34m\u001b[0m\u001b[0m\n\u001b[1;32m      5\u001b[0m \u001b[0;34m[\u001b[0m\u001b[0;36m0\u001b[0m\u001b[0;34m,\u001b[0m\u001b[0;36m0\u001b[0m\u001b[0;34m,\u001b[0m\u001b[0;36m3\u001b[0m\u001b[0;34m,\u001b[0m \u001b[0;36m0\u001b[0m\u001b[0;34m,\u001b[0m\u001b[0;36m0\u001b[0m\u001b[0;34m,\u001b[0m\u001b[0;36m0\u001b[0m\u001b[0;34m,\u001b[0m \u001b[0;36m6\u001b[0m\u001b[0;34m,\u001b[0m\u001b[0;36m0\u001b[0m\u001b[0;34m,\u001b[0m\u001b[0;36m0\u001b[0m\u001b[0;34m]\u001b[0m\u001b[0;34m,\u001b[0m\u001b[0;34m\u001b[0m\u001b[0;34m\u001b[0m\u001b[0m\n",
      "\u001b[0;31mNameError\u001b[0m: name 'np' is not defined"
     ]
    }
   ],
   "source": [
    "## add the fixed numbers constraints\n",
    "K = np.array([\n",
    "[0,8,0, 9,0,1, 0,5,0],\n",
    "[0,0,2, 6,8,7, 3,0,0],\n",
    "[0,0,3, 0,0,0, 6,0,0],\n",
    "[3,9,0, 0,0,0, 0,6,5],\n",
    "[6,0,0, 4,7,5, 0,0,3],\n",
    "[5,7,0, 0,0,0, 0,8,4],\n",
    "[0,0,9, 0,0,0, 8,0,0],\n",
    "[0,0,5, 1,2,4, 9,0,0],\n",
    "[0,4,0, 8,0,3, 0,2,0]])\n",
    "\n",
    "\n",
    "A=sudokuConstraints(order=3)\n",
    "for i in range(n2):\n",
    "    for j in range(n2):\n",
    "        k = K[i,j]\n",
    "        if (k>0):\n",
    "            newrow=np.zeros(n2*n2*n2)\n",
    "            newrow[unravel(i,j,k-1)]=1\n",
    "            A=np.vstack((A,newrow))\n",
    "            \n",
    "print(\"A.shape=\", A.shape)"
   ]
  },
  {
   "cell_type": "code",
   "execution_count": 1,
   "metadata": {
    "id": "D2fqQA7DLxxF",
    "outputId": "edaf027c-87de-4c8b-a58d-25089d5c3bef"
   },
   "outputs": [
    {
     "ename": "NameError",
     "evalue": "name 'solution' is not defined",
     "output_type": "error",
     "traceback": [
      "\u001b[0;31m---------------------------------------------------------------------------\u001b[0m",
      "\u001b[0;31mNameError\u001b[0m                                 Traceback (most recent call last)",
      "\u001b[0;32m<ipython-input-1-d074b68daf82>\u001b[0m in \u001b[0;36m<module>\u001b[0;34m\u001b[0m\n\u001b[1;32m     17\u001b[0m     \u001b[0mprint\u001b[0m\u001b[0;34m(\u001b[0m\u001b[0msep3\u001b[0m\u001b[0;34m)\u001b[0m\u001b[0;34m\u001b[0m\u001b[0;34m\u001b[0m\u001b[0m\n\u001b[1;32m     18\u001b[0m \u001b[0;34m\u001b[0m\u001b[0m\n\u001b[0;32m---> 19\u001b[0;31m \u001b[0mprintsol\u001b[0m\u001b[0;34m(\u001b[0m\u001b[0msolution\u001b[0m\u001b[0;34m)\u001b[0m\u001b[0;34m\u001b[0m\u001b[0;34m\u001b[0m\u001b[0m\n\u001b[0m\u001b[1;32m     20\u001b[0m \u001b[0;34m\u001b[0m\u001b[0m\n",
      "\u001b[0;31mNameError\u001b[0m: name 'solution' is not defined"
     ]
    }
   ],
   "source": [
    "## print solution\n",
    "def printsol(sol):\n",
    "    sep3=\"+-----+-----+-----+\"\n",
    "    for i in range(n2):\n",
    "        if (i%3 == 0):\n",
    "            print(sep3)\n",
    "        print(\"|\",end='')\n",
    "        for j in range(n2):\n",
    "            for k in range(n2):\n",
    "                if (sol[unravel(i,j,k)]==1):\n",
    "                    print(k+1,end='')\n",
    "            if (j%3 ==2):\n",
    "                print(\"|\",end='')\n",
    "            else:\n",
    "                print(\" \",end='')\n",
    "        print(\"\")\n",
    "    print(sep3)\n",
    "        \n",
    "printsol(solution)\n",
    "          "
   ]
  },
  {
   "cell_type": "markdown",
   "metadata": {
    "id": "dHIJop78LxxG"
   },
   "source": [
    "## Harder Sudoku"
   ]
  },
  {
   "cell_type": "code",
   "execution_count": null,
   "metadata": {
    "id": "5QCa7JoYLxxH",
    "outputId": "b1ca2b26-70f4-4d67-dbba-72726838c58b"
   },
   "outputs": [
    {
     "name": "stdout",
     "output_type": "stream",
     "text": [
      "Total number of constraints= 324\n",
      "+-----+-----+-----+\n",
      "|7 9 8|6 3 5|4 2 1|\n",
      "|1 2 6|9 7 4|5 8 3|\n",
      "|4 5 3|2 1 8|6 7 9|\n",
      "+-----+-----+-----+\n",
      "|9 7 2|5 8 6|3 1 4|\n",
      "|5 6 4|1 2 3|8 9 7|\n",
      "|3 8 1|4 9 7|2 5 6|\n",
      "+-----+-----+-----+\n",
      "|6 1 7|3 5 2|9 4 8|\n",
      "|8 3 5|7 4 9|1 6 2|\n",
      "|2 4 9|8 6 1|7 3 5|\n",
      "+-----+-----+-----+\n"
     ]
    }
   ],
   "source": [
    "## add the fixed numbers constraints\n",
    "K = np.array([\n",
    "[7,0,0, 0,0,0, 4,0,0],\n",
    "[0,2,0, 0,7,0, 0,8,0],\n",
    "[0,0,3, 0,0,8, 0,0,9],\n",
    "[0,0,0, 5,0,0, 3,0,0],\n",
    "[0,6,0, 0,2,0, 0,9,0],\n",
    "[0,0,1, 0,0,7, 0,0,6],\n",
    "[0,0,0, 3,0,0, 9,0,0],\n",
    "[0,3,0, 0,4,0, 0,6,0],\n",
    "[0,0,9, 0,0,1, 0,0,5]])\n",
    "\n",
    "A=sudokuConstraints()\n",
    "\n",
    "## add fixed constraintes\n",
    "for i in range(n2):\n",
    "    for j in range(n2):\n",
    "        k = K[i,j]\n",
    "        if (k>0):\n",
    "            newrow=np.zeros(n2*n2*n2)\n",
    "            newrow[unravel(i,j,k-1)]=1\n",
    "            A=np.vstack((A,newrow))\n",
    "            \n",
    "status,solution=solveSudoku(A)\n",
    "printsol(solution)"
   ]
  },
  {
   "cell_type": "code",
   "execution_count": null,
   "metadata": {
    "id": "rZ4oqr2zLxxH"
   },
   "outputs": [],
   "source": []
  }
 ],
 "metadata": {
  "colab": {
   "provenance": []
  },
  "kernelspec": {
   "display_name": "Python 3",
   "language": "python",
   "name": "python3"
  },
  "language_info": {
   "codemirror_mode": {
    "name": "ipython",
    "version": 3
   },
   "file_extension": ".py",
   "mimetype": "text/x-python",
   "name": "python",
   "nbconvert_exporter": "python",
   "pygments_lexer": "ipython3",
   "version": "3.6.9"
  },
  "latex_envs": {
   "LaTeX_envs_menu_present": true,
   "autoclose": false,
   "autocomplete": true,
   "bibliofile": "biblio.bib",
   "cite_by": "apalike",
   "current_citInitial": 1,
   "eqLabelWithNumbers": true,
   "eqNumInitial": 1,
   "hotkeys": {
    "equation": "Ctrl-E",
    "itemize": "Ctrl-I"
   },
   "labels_anchors": false,
   "latex_user_defs": false,
   "report_style_numbering": false,
   "user_envs_cfg": false
  }
 },
 "nbformat": 4,
 "nbformat_minor": 1
}
